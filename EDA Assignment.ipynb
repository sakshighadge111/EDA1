{
 "cells": [
  {
   "cell_type": "code",
   "execution_count": 20,
   "id": "9a7bf9c4-3b90-45c0-9592-c6993fd7437d",
   "metadata": {},
   "outputs": [],
   "source": [
    "import pandas as pd\n",
    "import numpy as np\n",
    "import matplotlib.pyplot as plt\n",
    "import seaborn as sns"
   ]
  },
  {
   "cell_type": "code",
   "execution_count": 21,
   "id": "936c00ed-0529-41b0-bc0c-4653fca971c7",
   "metadata": {},
   "outputs": [
    {
     "data": {
      "text/html": [
       "<div>\n",
       "<style scoped>\n",
       "    .dataframe tbody tr th:only-of-type {\n",
       "        vertical-align: middle;\n",
       "    }\n",
       "\n",
       "    .dataframe tbody tr th {\n",
       "        vertical-align: top;\n",
       "    }\n",
       "\n",
       "    .dataframe thead th {\n",
       "        text-align: right;\n",
       "    }\n",
       "</style>\n",
       "<table border=\"1\" class=\"dataframe\">\n",
       "  <thead>\n",
       "    <tr style=\"text-align: right;\">\n",
       "      <th></th>\n",
       "      <th>Car_Name</th>\n",
       "      <th>Year</th>\n",
       "      <th>Selling_Price</th>\n",
       "      <th>Present_Price</th>\n",
       "      <th>Kms_Driven</th>\n",
       "      <th>Fuel_Type</th>\n",
       "      <th>Seller_Type</th>\n",
       "      <th>Transmission</th>\n",
       "      <th>Owner</th>\n",
       "    </tr>\n",
       "  </thead>\n",
       "  <tbody>\n",
       "    <tr>\n",
       "      <th>0</th>\n",
       "      <td>ritz</td>\n",
       "      <td>2014</td>\n",
       "      <td>3.35</td>\n",
       "      <td>5.59</td>\n",
       "      <td>27000</td>\n",
       "      <td>Petrol</td>\n",
       "      <td>Dealer</td>\n",
       "      <td>Manual</td>\n",
       "      <td>0</td>\n",
       "    </tr>\n",
       "    <tr>\n",
       "      <th>1</th>\n",
       "      <td>sx4</td>\n",
       "      <td>2013</td>\n",
       "      <td>4.75</td>\n",
       "      <td>9.54</td>\n",
       "      <td>43000</td>\n",
       "      <td>Diesel</td>\n",
       "      <td>Dealer</td>\n",
       "      <td>Manual</td>\n",
       "      <td>0</td>\n",
       "    </tr>\n",
       "    <tr>\n",
       "      <th>2</th>\n",
       "      <td>ciaz</td>\n",
       "      <td>2017</td>\n",
       "      <td>7.25</td>\n",
       "      <td>9.85</td>\n",
       "      <td>6900</td>\n",
       "      <td>Petrol</td>\n",
       "      <td>Dealer</td>\n",
       "      <td>Manual</td>\n",
       "      <td>0</td>\n",
       "    </tr>\n",
       "    <tr>\n",
       "      <th>3</th>\n",
       "      <td>wagon r</td>\n",
       "      <td>2011</td>\n",
       "      <td>2.85</td>\n",
       "      <td>4.15</td>\n",
       "      <td>5200</td>\n",
       "      <td>Petrol</td>\n",
       "      <td>Dealer</td>\n",
       "      <td>Manual</td>\n",
       "      <td>0</td>\n",
       "    </tr>\n",
       "    <tr>\n",
       "      <th>4</th>\n",
       "      <td>swift</td>\n",
       "      <td>2014</td>\n",
       "      <td>4.60</td>\n",
       "      <td>6.87</td>\n",
       "      <td>42450</td>\n",
       "      <td>Diesel</td>\n",
       "      <td>Dealer</td>\n",
       "      <td>Manual</td>\n",
       "      <td>0</td>\n",
       "    </tr>\n",
       "    <tr>\n",
       "      <th>...</th>\n",
       "      <td>...</td>\n",
       "      <td>...</td>\n",
       "      <td>...</td>\n",
       "      <td>...</td>\n",
       "      <td>...</td>\n",
       "      <td>...</td>\n",
       "      <td>...</td>\n",
       "      <td>...</td>\n",
       "      <td>...</td>\n",
       "    </tr>\n",
       "    <tr>\n",
       "      <th>296</th>\n",
       "      <td>city</td>\n",
       "      <td>2016</td>\n",
       "      <td>9.50</td>\n",
       "      <td>11.60</td>\n",
       "      <td>33988</td>\n",
       "      <td>Diesel</td>\n",
       "      <td>Dealer</td>\n",
       "      <td>Manual</td>\n",
       "      <td>0</td>\n",
       "    </tr>\n",
       "    <tr>\n",
       "      <th>297</th>\n",
       "      <td>brio</td>\n",
       "      <td>2015</td>\n",
       "      <td>4.00</td>\n",
       "      <td>5.90</td>\n",
       "      <td>60000</td>\n",
       "      <td>Petrol</td>\n",
       "      <td>Dealer</td>\n",
       "      <td>Manual</td>\n",
       "      <td>0</td>\n",
       "    </tr>\n",
       "    <tr>\n",
       "      <th>298</th>\n",
       "      <td>city</td>\n",
       "      <td>2009</td>\n",
       "      <td>3.35</td>\n",
       "      <td>11.00</td>\n",
       "      <td>87934</td>\n",
       "      <td>Petrol</td>\n",
       "      <td>Dealer</td>\n",
       "      <td>Manual</td>\n",
       "      <td>0</td>\n",
       "    </tr>\n",
       "    <tr>\n",
       "      <th>299</th>\n",
       "      <td>city</td>\n",
       "      <td>2017</td>\n",
       "      <td>11.50</td>\n",
       "      <td>12.50</td>\n",
       "      <td>9000</td>\n",
       "      <td>Diesel</td>\n",
       "      <td>Dealer</td>\n",
       "      <td>Manual</td>\n",
       "      <td>0</td>\n",
       "    </tr>\n",
       "    <tr>\n",
       "      <th>300</th>\n",
       "      <td>brio</td>\n",
       "      <td>2016</td>\n",
       "      <td>5.30</td>\n",
       "      <td>5.90</td>\n",
       "      <td>5464</td>\n",
       "      <td>Petrol</td>\n",
       "      <td>Dealer</td>\n",
       "      <td>Manual</td>\n",
       "      <td>0</td>\n",
       "    </tr>\n",
       "  </tbody>\n",
       "</table>\n",
       "<p>301 rows × 9 columns</p>\n",
       "</div>"
      ],
      "text/plain": [
       "    Car_Name  Year  Selling_Price  Present_Price  Kms_Driven Fuel_Type  \\\n",
       "0       ritz  2014           3.35           5.59       27000    Petrol   \n",
       "1        sx4  2013           4.75           9.54       43000    Diesel   \n",
       "2       ciaz  2017           7.25           9.85        6900    Petrol   \n",
       "3    wagon r  2011           2.85           4.15        5200    Petrol   \n",
       "4      swift  2014           4.60           6.87       42450    Diesel   \n",
       "..       ...   ...            ...            ...         ...       ...   \n",
       "296     city  2016           9.50          11.60       33988    Diesel   \n",
       "297     brio  2015           4.00           5.90       60000    Petrol   \n",
       "298     city  2009           3.35          11.00       87934    Petrol   \n",
       "299     city  2017          11.50          12.50        9000    Diesel   \n",
       "300     brio  2016           5.30           5.90        5464    Petrol   \n",
       "\n",
       "    Seller_Type Transmission  Owner  \n",
       "0        Dealer       Manual      0  \n",
       "1        Dealer       Manual      0  \n",
       "2        Dealer       Manual      0  \n",
       "3        Dealer       Manual      0  \n",
       "4        Dealer       Manual      0  \n",
       "..          ...          ...    ...  \n",
       "296      Dealer       Manual      0  \n",
       "297      Dealer       Manual      0  \n",
       "298      Dealer       Manual      0  \n",
       "299      Dealer       Manual      0  \n",
       "300      Dealer       Manual      0  \n",
       "\n",
       "[301 rows x 9 columns]"
      ]
     },
     "execution_count": 21,
     "metadata": {},
     "output_type": "execute_result"
    }
   ],
   "source": [
    "df= pd.read_csv(\"car_data.csv\")\n",
    "df"
   ]
  },
  {
   "cell_type": "code",
   "execution_count": 3,
   "id": "c804572d-7adc-4d7d-8383-25599f6da41c",
   "metadata": {},
   "outputs": [
    {
     "name": "stdout",
     "output_type": "stream",
     "text": [
      "<class 'pandas.core.frame.DataFrame'>\n",
      "RangeIndex: 301 entries, 0 to 300\n",
      "Data columns (total 9 columns):\n",
      " #   Column         Non-Null Count  Dtype  \n",
      "---  ------         --------------  -----  \n",
      " 0   Car_Name       301 non-null    object \n",
      " 1   Year           301 non-null    int64  \n",
      " 2   Selling_Price  301 non-null    float64\n",
      " 3   Present_Price  301 non-null    float64\n",
      " 4   Kms_Driven     301 non-null    int64  \n",
      " 5   Fuel_Type      301 non-null    object \n",
      " 6   Seller_Type    301 non-null    object \n",
      " 7   Transmission   301 non-null    object \n",
      " 8   Owner          301 non-null    int64  \n",
      "dtypes: float64(2), int64(3), object(4)\n",
      "memory usage: 21.3+ KB\n"
     ]
    }
   ],
   "source": [
    "df.info()"
   ]
  },
  {
   "cell_type": "markdown",
   "id": "ed3402cb-dff3-47f4-85d4-8ccbfd455f27",
   "metadata": {},
   "source": [
    "# 1.How many rows and columns are in the dataset?"
   ]
  },
  {
   "cell_type": "code",
   "execution_count": 4,
   "id": "d6931037-9dc1-4128-9e0d-52658e4d1f28",
   "metadata": {},
   "outputs": [
    {
     "name": "stdout",
     "output_type": "stream",
     "text": [
      "Number of rows: 301\n",
      "Number of columns: 9\n"
     ]
    }
   ],
   "source": [
    "rows, columns = df.shape\n",
    "print(f\"Number of rows: {rows}\")\n",
    "print(f\"Number of columns: {columns}\")"
   ]
  },
  {
   "cell_type": "markdown",
   "id": "003624a3-cac4-443e-bcfe-c42106516ad4",
   "metadata": {},
   "source": [
    "2.What are the data types of each column?\n"
   ]
  },
  {
   "cell_type": "code",
   "execution_count": 5,
   "id": "5dc7a4b4-56db-4036-b067-83b61ba5a728",
   "metadata": {},
   "outputs": [
    {
     "name": "stdout",
     "output_type": "stream",
     "text": [
      "Car_Name          object\n",
      "Year               int64\n",
      "Selling_Price    float64\n",
      "Present_Price    float64\n",
      "Kms_Driven         int64\n",
      "Fuel_Type         object\n",
      "Seller_Type       object\n",
      "Transmission      object\n",
      "Owner              int64\n",
      "dtype: object\n"
     ]
    }
   ],
   "source": [
    "print(df.dtypes)"
   ]
  },
  {
   "cell_type": "markdown",
   "id": "25ff8482-7cf6-486b-bda5-9fe0c6e61bb0",
   "metadata": {},
   "source": [
    "3.Are there any missing values in the dataset?\n"
   ]
  },
  {
   "cell_type": "code",
   "execution_count": 6,
   "id": "c6c5a524-863d-43bc-8805-44ce9dbee9ae",
   "metadata": {},
   "outputs": [
    {
     "name": "stdout",
     "output_type": "stream",
     "text": [
      "Car_Name         0\n",
      "Year             0\n",
      "Selling_Price    0\n",
      "Present_Price    0\n",
      "Kms_Driven       0\n",
      "Fuel_Type        0\n",
      "Seller_Type      0\n",
      "Transmission     0\n",
      "Owner            0\n",
      "dtype: int64\n"
     ]
    }
   ],
   "source": [
    "print(df.isnull().sum())\n"
   ]
  },
  {
   "cell_type": "markdown",
   "id": "44f1eedc-4f9a-46f4-84c5-4164ff2961a1",
   "metadata": {},
   "source": [
    "4.Are there any duplicate records?\n"
   ]
  },
  {
   "cell_type": "code",
   "execution_count": 9,
   "id": "4798b509-969b-46e5-939e-57c5ac25ce4e",
   "metadata": {},
   "outputs": [
    {
     "name": "stdout",
     "output_type": "stream",
     "text": [
      "Number of duplicate records:     Car_Name  Year  Selling_Price  Present_Price  Kms_Driven Fuel_Type  \\\n",
      "17    ertiga  2016           7.75          10.79       43000    Diesel   \n",
      "93  fortuner  2015          23.00          30.61       40000    Diesel   \n",
      "\n",
      "   Seller_Type Transmission  Owner  \n",
      "17      Dealer       Manual      0  \n",
      "93      Dealer    Automatic      0  \n"
     ]
    }
   ],
   "source": [
    "duplicates = df[df.duplicated()]\n",
    "print(f\"Number of duplicate records: {duplicates}\")\n"
   ]
  },
  {
   "cell_type": "markdown",
   "id": "b77d8378-5c63-4570-83f2-da919501f7a4",
   "metadata": {},
   "source": [
    "5.What are the unique values in the Fuel_Type, Seller_Type, and Transmission columns?\n"
   ]
  },
  {
   "cell_type": "code",
   "execution_count": 8,
   "id": "65be95fb-fd33-4bb0-a5f2-f207a440178f",
   "metadata": {},
   "outputs": [
    {
     "name": "stdout",
     "output_type": "stream",
     "text": [
      "Unique Fuel_Type values: ['Petrol' 'Diesel' 'CNG']\n",
      "Unique Seller_Type values: ['Dealer' 'Individual']\n",
      "Unique Transmission values: ['Manual' 'Automatic']\n"
     ]
    }
   ],
   "source": [
    "print(\"Unique Fuel_Type values:\", df[\"Fuel_Type\"].unique())\n",
    "print(\"Unique Seller_Type values:\", df[\"Seller_Type\"].unique())\n",
    "print(\"Unique Transmission values:\", df[\"Transmission\"].unique())"
   ]
  },
  {
   "cell_type": "markdown",
   "id": "b0074b55-9d06-4b4d-9ec2-feb4d7c9732d",
   "metadata": {},
   "source": [
    "6.What is the average, maximum, and minimum Selling_Price?\n"
   ]
  },
  {
   "cell_type": "code",
   "execution_count": 11,
   "id": "83e40989-71c9-419f-9d9b-068214c0dfb2",
   "metadata": {},
   "outputs": [
    {
     "name": "stdout",
     "output_type": "stream",
     "text": [
      "Average Selling Price: 4.66\n",
      "Maximum Selling Price: 35.0\n",
      "Minimum Selling Price: 0.1\n"
     ]
    }
   ],
   "source": [
    "avg_price = df[\"Selling_Price\"].mean()\n",
    "max_price = df[\"Selling_Price\"].max()\n",
    "min_price = df[\"Selling_Price\"].min()\n",
    "\n",
    "\n",
    "print(f\"Average Selling Price: {avg_price:.2f}\")\n",
    "print(f\"Maximum Selling Price: {max_price}\")\n",
    "print(f\"Minimum Selling Price: {min_price}\")"
   ]
  },
  {
   "cell_type": "code",
   "execution_count": null,
   "id": "36a7766a-3fee-4068-bf44-bb631f9d95e3",
   "metadata": {},
   "outputs": [],
   "source": [
    "7.What is the average Selling_Price by Fuel_Type?\n"
   ]
  },
  {
   "cell_type": "code",
   "execution_count": 12,
   "id": "775e20ad-a34a-4f67-b7cc-c36118045007",
   "metadata": {},
   "outputs": [
    {
     "name": "stdout",
     "output_type": "stream",
     "text": [
      "Fuel_Type\n",
      "CNG        3.100000\n",
      "Diesel    10.278500\n",
      "Petrol     3.264184\n",
      "Name: Selling_Price, dtype: float64\n"
     ]
    }
   ],
   "source": [
    "avg_fuel = df.groupby(\"Fuel_Type\")[\"Selling_Price\"].mean()\n",
    "print(avg_fuel)"
   ]
  },
  {
   "cell_type": "code",
   "execution_count": null,
   "id": "6a646880-ec6f-4728-80c4-c1e03d440e44",
   "metadata": {},
   "outputs": [],
   "source": [
    "8.What is the average Selling_Price by Transmission type?\n"
   ]
  },
  {
   "cell_type": "code",
   "execution_count": 11,
   "id": "dae98166-789a-4e95-ae28-a3173120b65c",
   "metadata": {},
   "outputs": [
    {
     "name": "stdout",
     "output_type": "stream",
     "text": [
      "Average Selling Price by Transmission Type:\n",
      "Transmission\n",
      "Automatic    9.420000\n",
      "Manual       3.931992\n",
      "Name: Selling_Price, dtype: float64\n"
     ]
    }
   ],
   "source": [
    "average_selling_price_by_transmission = (df.groupby('Transmission')['Selling_Price'].mean())                                                                           \n",
    "print(\"Average Selling Price by Transmission Type:\")\n",
    "print(average_selling_price_by_transmission)\n"
   ]
  },
  {
   "cell_type": "code",
   "execution_count": null,
   "id": "400a99e0-bd9d-418d-8983-2be259c34013",
   "metadata": {},
   "outputs": [],
   "source": [
    "9.Which car model appears most frequently?\n"
   ]
  },
  {
   "cell_type": "code",
   "execution_count": 13,
   "id": "cf9bede6-ecdd-4d47-9c1b-4e1f018619e0",
   "metadata": {},
   "outputs": [
    {
     "name": "stdout",
     "output_type": "stream",
     "text": [
      "Most Frequent Car Model: city\n"
     ]
    }
   ],
   "source": [
    "car_counts = df['Car_Name'].value_counts()\n",
    "most_frequent_car_model = car_counts.index[0]\n",
    "print(f\"Most Frequent Car Model: {most_frequent_car_model}\")\n"
   ]
  },
  {
   "cell_type": "code",
   "execution_count": 22,
   "id": "9380bbd4-c5ea-4546-a1d3-5aa8775bcb00",
   "metadata": {},
   "outputs": [
    {
     "name": "stdout",
     "output_type": "stream",
     "text": [
      "Object `model` not found.\n"
     ]
    }
   ],
   "source": [
    "10.What is the average Selling_Price for each car model?\n"
   ]
  },
  {
   "cell_type": "code",
   "execution_count": 16,
   "id": "b58d1bb5-b258-445a-9b43-b595e809add4",
   "metadata": {},
   "outputs": [
    {
     "data": {
      "text/plain": [
       "Car_Name\n",
       "800                  0.350000\n",
       "Activa 3g            0.310000\n",
       "Activa 4g            0.400000\n",
       "Bajaj  ct 100        0.180000\n",
       "Bajaj Avenger 150    0.750000\n",
       "                       ...   \n",
       "sx4                  3.158333\n",
       "verna                6.107857\n",
       "vitara brezza        9.250000\n",
       "wagon r              2.512500\n",
       "xcent                4.966667\n",
       "Name: Selling_Price, Length: 98, dtype: float64"
      ]
     },
     "execution_count": 16,
     "metadata": {},
     "output_type": "execute_result"
    }
   ],
   "source": [
    "df.groupby('Car_Name')['Selling_Price'].mean()\n"
   ]
  },
  {
   "cell_type": "code",
   "execution_count": null,
   "id": "c4657976-ff46-4fc5-9af2-1cb4563d5548",
   "metadata": {},
   "outputs": [],
   "source": [
    "11.What is the range of years in the dataset (min and max Year)?\n"
   ]
  },
  {
   "cell_type": "code",
   "execution_count": 19,
   "id": "30f9a203-a500-4763-94e5-de6c5933d639",
   "metadata": {},
   "outputs": [
    {
     "name": "stdout",
     "output_type": "stream",
     "text": [
      "Minimum Year: 2003\n",
      "Maximum Year: 2018\n"
     ]
    }
   ],
   "source": [
    "min_year = df['Year'].min()\n",
    "max_year = df['Year'].max()\n",
    "\n",
    "print(f\"Minimum Year: {min_year}\")\n",
    "print(f\"Maximum Year: {max_year}\")"
   ]
  },
  {
   "cell_type": "code",
   "execution_count": 17,
   "id": "4cd8f75c-7de6-4c35-b318-fb8811ea8e65",
   "metadata": {},
   "outputs": [
    {
     "name": "stdout",
     "output_type": "stream",
     "text": [
      "Object `Year` not found.\n"
     ]
    }
   ],
   "source": [
    "12.What is the average Selling_Price grouped by Year?\n"
   ]
  },
  {
   "cell_type": "code",
   "execution_count": 20,
   "id": "ad9f9ac5-4148-4c35-abf2-d73ef1f4786b",
   "metadata": {},
   "outputs": [
    {
     "name": "stdout",
     "output_type": "stream",
     "text": [
      "Year\n",
      "2003    1.300000\n",
      "2004    1.500000\n",
      "2005    2.487500\n",
      "2006    1.437500\n",
      "2007    0.160000\n",
      "2008    1.002857\n",
      "2009    2.816667\n",
      "2010    5.262667\n",
      "2011    2.375263\n",
      "2012    3.841304\n",
      "2013    3.540909\n",
      "2014    4.762105\n",
      "2015    5.927049\n",
      "2016    5.213200\n",
      "2017    6.209143\n",
      "2018    9.250000\n",
      "Name: Selling_Price, dtype: float64\n"
     ]
    }
   ],
   "source": [
    "print(df.groupby('Year')['Selling_Price'].mean())\n",
    "\n"
   ]
  },
  {
   "cell_type": "code",
   "execution_count": 26,
   "id": "7e936690-e74b-467f-8c13-af648f392536",
   "metadata": {},
   "outputs": [],
   "source": [
    "13.What is the most common number of owners (from the Owner column)?\n"
   ]
  },
  {
   "cell_type": "code",
   "execution_count": 25,
   "id": "284ff3e1-9a8f-4154-93b2-cc428f1dabcb",
   "metadata": {},
   "outputs": [
    {
     "name": "stdout",
     "output_type": "stream",
     "text": [
      "Most Common Number of Owners: 0\n",
      "Frequency: 290\n"
     ]
    }
   ],
   "source": [
    "most_common_owner = df['Owner'].mode().iloc[0]\n",
    "frequency = df['Owner'].value_counts().iloc[0]\n",
    "\n",
    "print(f\"Most Common Number of Owners: {most_common_owner}\")\n",
    "print(f\"Frequency: {frequency}\")"
   ]
  },
  {
   "cell_type": "code",
   "execution_count": null,
   "id": "9830e9e0-3c98-46a8-8b98-a00c19b0af38",
   "metadata": {},
   "outputs": [],
   "source": [
    "14.What is the average number of kilometers driven (Kms_Driven)?\n"
   ]
  },
  {
   "cell_type": "code",
   "execution_count": 29,
   "id": "720c43f3-4147-4147-a436-842853d0e051",
   "metadata": {},
   "outputs": [
    {
     "name": "stdout",
     "output_type": "stream",
     "text": [
      "\n",
      " Average Kms Driven: 36947.20598006644\n"
     ]
    }
   ],
   "source": [
    "print(\"\\n Average Kms Driven:\", df['Kms_Driven'].mean())\n"
   ]
  },
  {
   "cell_type": "code",
   "execution_count": 22,
   "id": "c257deaa-2f84-4715-ad06-cc7ac9b42386",
   "metadata": {},
   "outputs": [
    {
     "name": "stdout",
     "output_type": "stream",
     "text": [
      "36947.21\n"
     ]
    }
   ],
   "source": [
    "print(df['Kms_Driven'].mean().round(2))\n",
    "\n"
   ]
  },
  {
   "cell_type": "code",
   "execution_count": null,
   "id": "308bde93-ab5a-44fd-98e1-b4c8d35fcbbf",
   "metadata": {},
   "outputs": [],
   "source": [
    "15.Which car has the highest Present_Price?\n"
   ]
  },
  {
   "cell_type": "code",
   "execution_count": 23,
   "id": "0e8b5cf3-c3a3-44a1-b3b8-245f06146212",
   "metadata": {},
   "outputs": [
    {
     "name": "stdout",
     "output_type": "stream",
     "text": [
      "Car with the highest Present_Price: land cruiser\n",
      "Highest Present Price (Rs. in Lakhs): 92.6\n"
     ]
    }
   ],
   "source": [
    "car_name = df.loc[df['Present_Price'].idxmax(), 'Car_Name']\n",
    "price = df['Present_Price'].max()\n",
    "\n",
    "print(f\"Car with the highest Present_Price: {car_name}\")\n",
    "print(f\"Highest Present Price (Rs. in Lakhs): {price}\")"
   ]
  },
  {
   "cell_type": "code",
   "execution_count": null,
   "id": "db01b0c6-c976-4089-8fb4-fa768e17561c",
   "metadata": {},
   "outputs": [],
   "source": [
    "16.What is the correlation between Selling_Price, Present_Price, and Kms_Driven?\n"
   ]
  },
  {
   "cell_type": "code",
   "execution_count": 24,
   "id": "b3d2f28b-4e78-4424-98fe-1c85da434eb7",
   "metadata": {},
   "outputs": [
    {
     "name": "stdout",
     "output_type": "stream",
     "text": [
      "               Selling_Price  Present_Price  Kms_Driven\n",
      "Selling_Price       1.000000       0.878983    0.029187\n",
      "Present_Price       0.878983       1.000000    0.203647\n",
      "Kms_Driven          0.029187       0.203647    1.000000\n"
     ]
    }
   ],
   "source": [
    "print(df[['Selling_Price', 'Present_Price', 'Kms_Driven']].corr())\n"
   ]
  },
  {
   "cell_type": "code",
   "execution_count": null,
   "id": "c1e0d692-1d4f-4c07-9dc0-fb952f2b5e69",
   "metadata": {},
   "outputs": [],
   "source": [
    "17.Which Seller_Type has the highest average Selling_Price?\n"
   ]
  },
  {
   "cell_type": "code",
   "execution_count": 25,
   "id": "c5a701d9-a1cb-489f-903f-ebe42fd32b3d",
   "metadata": {},
   "outputs": [
    {
     "name": "stdout",
     "output_type": "stream",
     "text": [
      "Seller Type with highest average Selling Price: Dealer\n",
      "Highest Average Selling Price (Rs. in Lakhs): 6.72\n"
     ]
    }
   ],
   "source": [
    "highest_avg_seller = df.groupby('Seller_Type')['Selling_Price'].mean().idxmax()\n",
    "highest_price = df.groupby('Seller_Type')['Selling_Price'].mean().max()\n",
    "\n",
    "print(f\"Seller Type with highest average Selling Price: {highest_avg_seller}\")\n",
    "print(f\"Highest Average Selling Price (Rs. in Lakhs): {highest_price:.2f}\")"
   ]
  },
  {
   "cell_type": "code",
   "execution_count": null,
   "id": "efdc8efb-8631-4bc6-ac33-23212510c794",
   "metadata": {},
   "outputs": [],
   "source": [
    "18.How many cars are there of each Fuel_Type?\n"
   ]
  },
  {
   "cell_type": "code",
   "execution_count": 26,
   "id": "bdfa806d-863a-4e86-bff7-35d1f1f8d86c",
   "metadata": {},
   "outputs": [
    {
     "name": "stdout",
     "output_type": "stream",
     "text": [
      "Fuel_Type\n",
      "Petrol    239\n",
      "Diesel     60\n",
      "CNG         2\n",
      "Name: count, dtype: int64\n"
     ]
    }
   ],
   "source": [
    "print(df['Fuel_Type'].value_counts())\n"
   ]
  },
  {
   "cell_type": "code",
   "execution_count": null,
   "id": "edde7220-05fc-474e-971e-9e08b12cc3bf",
   "metadata": {},
   "outputs": [],
   "source": [
    "19.How many cars have more than one previous owner?\n"
   ]
  },
  {
   "cell_type": "code",
   "execution_count": 27,
   "id": "05a3b756-ae1d-4f54-90e0-862a67b5e5fd",
   "metadata": {},
   "outputs": [
    {
     "name": "stdout",
     "output_type": "stream",
     "text": [
      "Number of cars with more than one previous owner: 1\n"
     ]
    }
   ],
   "source": [
    "count = len(df[df['Owner'] > 1])\n",
    "print(f\"Number of cars with more than one previous owner: {count}\")"
   ]
  },
  {
   "cell_type": "code",
   "execution_count": null,
   "id": "2bfbc8b7-ef7d-4948-adb6-f0ade3ff0063",
   "metadata": {},
   "outputs": [],
   "source": [
    "20.What are the top 5 most expensive cars in the dataset?\n"
   ]
  },
  {
   "cell_type": "code",
   "execution_count": 28,
   "id": "dc8c111d-af3e-4c6d-b56f-191719fb30f8",
   "metadata": {},
   "outputs": [
    {
     "name": "stdout",
     "output_type": "stream",
     "text": [
      "        Car_Name  Selling_Price  Present_Price  Year\n",
      "86  land cruiser           35.0          92.60  2010\n",
      "64      fortuner           33.0          36.23  2017\n",
      "63      fortuner           23.5          35.96  2015\n",
      "51      fortuner           23.0          30.61  2015\n",
      "93      fortuner           23.0          30.61  2015\n"
     ]
    }
   ],
   "source": [
    "top_5 = df.sort_values(by='Selling_Price', ascending=False).head(5)\n",
    "print(top_5[['Car_Name', 'Selling_Price', 'Present_Price', 'Year']])\n"
   ]
  },
  {
   "cell_type": "code",
   "execution_count": null,
   "id": "3a0c064b-7027-444e-b600-d03e96511729",
   "metadata": {},
   "outputs": [],
   "source": [
    "21.What is the average difference between Present_Price and Selling_Price?\n"
   ]
  },
  {
   "cell_type": "code",
   "execution_count": 29,
   "id": "65e8f5f0-1fe5-4007-a006-3182a0fb98cb",
   "metadata": {},
   "outputs": [
    {
     "name": "stdout",
     "output_type": "stream",
     "text": [
      "Average Difference (Rs. in Lakhs): 2.97\n"
     ]
    }
   ],
   "source": [
    "average_difference = (df['Present_Price'] - df['Selling_Price']).mean().round(2)\n",
    "\n",
    "print(f\"Average Difference (Rs. in Lakhs): {average_difference}\")"
   ]
  },
  {
   "cell_type": "code",
   "execution_count": null,
   "id": "b0b9feab-f563-47ca-9621-762840582576",
   "metadata": {},
   "outputs": [],
   "source": [
    "22.How many cars are being sold by individual sellers vs dealers?\n"
   ]
  },
  {
   "cell_type": "code",
   "execution_count": 30,
   "id": "c768c045-7252-4d1c-a4fa-f5a589b42fbb",
   "metadata": {},
   "outputs": [
    {
     "name": "stdout",
     "output_type": "stream",
     "text": [
      "Seller_Type\n",
      "Dealer        195\n",
      "Individual    106\n",
      "Name: count, dtype: int64\n"
     ]
    }
   ],
   "source": [
    "print(df['Seller_Type'].value_counts())\n"
   ]
  },
  {
   "cell_type": "code",
   "execution_count": null,
   "id": "c32f9c57-82cc-4abc-813e-71fae0a10d31",
   "metadata": {},
   "outputs": [],
   "source": [
    "23.How many cars were manufactured before 2010?\n"
   ]
  },
  {
   "cell_type": "code",
   "execution_count": 31,
   "id": "7178249d-9003-4ad7-9777-381b898cdcd2",
   "metadata": {},
   "outputs": [
    {
     "name": "stdout",
     "output_type": "stream",
     "text": [
      "26\n"
     ]
    }
   ],
   "source": [
    "print(len(df[df['Year'] < 2010]))\n"
   ]
  },
  {
   "cell_type": "code",
   "execution_count": null,
   "id": "f042454d-898c-4b5f-93d8-cb16b90d85d6",
   "metadata": {},
   "outputs": [],
   "source": [
    "24.Which year has the highest number of car listings?\n"
   ]
  },
  {
   "cell_type": "code",
   "execution_count": 32,
   "id": "11edf304-df55-4eea-8131-b06659f087b7",
   "metadata": {},
   "outputs": [
    {
     "name": "stdout",
     "output_type": "stream",
     "text": [
      "Year with the highest number of car listings: 2015\n"
     ]
    }
   ],
   "source": [
    "most_listings_year = df['Year'].mode().iloc[0]\n",
    "\n",
    "print(f\"Year with the highest number of car listings: {most_listings_year}\")\n"
   ]
  },
  {
   "cell_type": "code",
   "execution_count": null,
   "id": "838d0443-d2e2-464a-a8cf-6a6d185b687f",
   "metadata": {},
   "outputs": [],
   "source": [
    "25.What percentage of cars are using diesel vs petrol vs CNG?\n"
   ]
  },
  {
   "cell_type": "code",
   "execution_count": 33,
   "id": "7986bcf4-e150-49a8-a93d-4936c92d5eda",
   "metadata": {},
   "outputs": [
    {
     "name": "stdout",
     "output_type": "stream",
     "text": [
      "Fuel_Type\n",
      "Petrol    79.40\n",
      "Diesel    19.93\n",
      "CNG        0.66\n",
      "Name: proportion, dtype: float64\n"
     ]
    }
   ],
   "source": [
    "print((df['Fuel_Type'].value_counts(normalize=True) * 100).round(2))\n"
   ]
  },
  {
   "cell_type": "code",
   "execution_count": null,
   "id": "039f9a9c-8b6d-424d-b31b-07d106485977",
   "metadata": {},
   "outputs": [],
   "source": [
    "26.What is the highest and lowest Kms_Driven for each fuel type?\n"
   ]
  },
  {
   "cell_type": "code",
   "execution_count": 34,
   "id": "0175277a-da80-4cf0-9000-c774027f8868",
   "metadata": {},
   "outputs": [
    {
     "name": "stdout",
     "output_type": "stream",
     "text": [
      "             min     max\n",
      "Fuel_Type               \n",
      "CNG        35500   49998\n",
      "Diesel      2071  197176\n",
      "Petrol       500  500000\n"
     ]
    }
   ],
   "source": [
    "print(df.groupby('Fuel_Type')['Kms_Driven'].agg(['min', 'max']))\n"
   ]
  },
  {
   "cell_type": "code",
   "execution_count": null,
   "id": "fc0525e7-982f-49ac-9fe3-6d1fe01a41ad",
   "metadata": {},
   "outputs": [],
   "source": [
    "27.How many cars were sold with exactly 0 previous owners?\n"
   ]
  },
  {
   "cell_type": "code",
   "execution_count": 35,
   "id": "9ad2b3cb-7f7c-45ee-ad10-ced97221231a",
   "metadata": {},
   "outputs": [
    {
     "name": "stdout",
     "output_type": "stream",
     "text": [
      "290\n"
     ]
    }
   ],
   "source": [
    "print((df['Owner'] == 0).sum())\n"
   ]
  },
  {
   "cell_type": "code",
   "execution_count": null,
   "id": "2f2ad20e-f05e-4cf9-b8c6-1f453144a82d",
   "metadata": {},
   "outputs": [],
   "source": [
    "28.How many unique combinations of Fuel_Type, Seller_Type, and Transmission exist?\n"
   ]
  },
  {
   "cell_type": "code",
   "execution_count": 36,
   "id": "d8f342fe-af1a-4b07-aa69-cfd7d6ae0325",
   "metadata": {},
   "outputs": [
    {
     "name": "stdout",
     "output_type": "stream",
     "text": [
      "Number of unique combinations: 8\n"
     ]
    }
   ],
   "source": [
    "count = len(df[['Fuel_Type', 'Seller_Type', 'Transmission']].drop_duplicates())\n",
    "\n",
    "print(f\"Number of unique combinations: {count}\")"
   ]
  },
  {
   "cell_type": "code",
   "execution_count": null,
   "id": "491ded0e-b946-457b-ae54-79d428c35c90",
   "metadata": {},
   "outputs": [],
   "source": [
    "29.What is the average Selling_Price of cars that have more than 2 previous owners?\n"
   ]
  },
  {
   "cell_type": "code",
   "execution_count": 32,
   "id": "51968fc1-c71e-43ec-bbe8-380f4edf40a3",
   "metadata": {},
   "outputs": [
    {
     "name": "stdout",
     "output_type": "stream",
     "text": [
      "Average Selling Price (Rs. in Lakhs): 2.50\n"
     ]
    }
   ],
   "source": [
    "average_price = df[df['Owner'] > 2]['Selling_Price'].mean()\n",
    "\n",
    "print(f\"Average Selling Price (Rs. in Lakhs): {average_price:.2f}\")"
   ]
  },
  {
   "cell_type": "code",
   "execution_count": null,
   "id": "1a63c637-2814-409f-b5a5-c1678b26d0cc",
   "metadata": {},
   "outputs": [],
   "source": [
    "30.Are there any cars where Selling_Price is greater than Present_Price?\n"
   ]
  },
  {
   "cell_type": "code",
   "execution_count": 31,
   "id": "347abf6d-d887-41f4-b901-dfe4cccffa69",
   "metadata": {},
   "outputs": [
    {
     "name": "stdout",
     "output_type": "stream",
     "text": [
      "No cars found.\n"
     ]
    }
   ],
   "source": [
    "count = len(df[df['Selling_Price'] > df['Present_Price']])\n",
    "\n",
    "if count > 0:\n",
    "    print(f\"Yes, {count} cars found.\")\n",
    "else:\n",
    "    print(\"No cars found.\")"
   ]
  },
  {
   "cell_type": "code",
   "execution_count": null,
   "id": "f4bd36ad-dee6-43df-aac1-69668a19ca6e",
   "metadata": {},
   "outputs": [],
   "source": []
  }
 ],
 "metadata": {
  "kernelspec": {
   "display_name": "Python [conda env:base] *",
   "language": "python",
   "name": "conda-base-py"
  },
  "language_info": {
   "codemirror_mode": {
    "name": "ipython",
    "version": 3
   },
   "file_extension": ".py",
   "mimetype": "text/x-python",
   "name": "python",
   "nbconvert_exporter": "python",
   "pygments_lexer": "ipython3",
   "version": "3.13.5"
  }
 },
 "nbformat": 4,
 "nbformat_minor": 5
}
